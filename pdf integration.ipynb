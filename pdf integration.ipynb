{
 "cells": [
  {
   "cell_type": "code",
   "execution_count": 1,
   "metadata": {},
   "outputs": [],
   "source": [
    "import pandas as pd\n",
    "import pdfplumber as pdfp\n",
    "import numpy as np\n",
    "import os\n",
    "import re\n",
    "import calendar\n",
    "import datetime as dt\n",
    "import warnings\n",
    "\n",
    "warnings.filterwarnings('ignore')"
   ]
  },
  {
   "cell_type": "code",
   "execution_count": 2,
   "metadata": {
    "scrolled": true
   },
   "outputs": [
    {
     "name": "stdin",
     "output_type": "stream",
     "text": [
      "please enter the company's name:  all\n"
     ]
    }
   ],
   "source": [
    "def drop_unneeded(item):\n",
    "    if '(' in item:\n",
    "        return item[:item.find('(')]\n",
    "    else:\n",
    "        return item\n",
    "\n",
    "            \n",
    "def integrate_all_data(x):\n",
    "    \n",
    "    pdf_list = []\n",
    "    for i in os.listdir('./'):\n",
    "        if 'ipynb' not in i and '.pdf' not in i:\n",
    "            pdf_list.append(i)\n",
    "    \n",
    "    lst = []\n",
    "    for i in pdf_list:\n",
    "        for j in os.listdir('./%s'%i.strip('.csv')+'/'):\n",
    "                lst.append(j)\n",
    "    \n",
    "    \n",
    "    company_list = np.unique(lst)\n",
    "    \n",
    "    integrated_list = []\n",
    "    for i in company_list:\n",
    "        integrated_list.append(i.strip('.csv')+'_integrated')\n",
    "    \n",
    "    for i in pdf_list:\n",
    "        for j in os.listdir('./%s'%i+'/'):\n",
    "            locals()[j.strip('.csv')+'_integrated'] = pd.DataFrame()\n",
    "    \n",
    "    for i in pdf_list:\n",
    "        for j in range(len(integrated_list)):\n",
    "            try:\n",
    "                locals()[integrated_list[j]] = pd.concat([eval(integrated_list[j]),pd.read_csv('./%s'%i+'/%s'%company_list[j])]) \n",
    "            except:\n",
    "                continue\n",
    "\n",
    "\n",
    "    for i in integrated_list:\n",
    "        locals()[i] = eval(i).rename(columns = {'Unnamed: 0':'Date'})\n",
    "        locals()[i] = eval(i).set_index('Date')\n",
    "        eval(i).index = eval(i).index.map(lambda x:str(x)).map(drop_unneeded)\n",
    "        #locals()[i] = eval(i).set_index('Date')\n",
    "        try: \n",
    "            eval(i).index = pd.to_datetime(eval(i).index,format = '%b-%y')\n",
    "        except:\n",
    "            try:\n",
    "                eval(i).index = pd.to_datetime(eval(i).index,format = '%y-%b')\n",
    "            except:\n",
    "                try:\n",
    "                    eval(i).index = pd.to_datetime(eval(i).index,format = '%m/%d/%Y')\n",
    "                except:\n",
    "                    continue\n",
    "        eval(i).replace('nan',np.nan,inplace = True)\n",
    "        locals()[i] = eval(i).groupby(eval(i).index.strftime('%Y-%m')).bfill().ffill()\n",
    "        locals()[i] = eval(i)[~eval(i).index.duplicated(keep = 'first')]\n",
    "        locals()[i] = eval(i).sort_index()\n",
    "     \n",
    "    new_folder = '../'+'integrated tables/'\n",
    "    if not os.path.exists('../integrated tables'):\n",
    "        os.makedirs(new_folder)\n",
    "    if x == 'all':\n",
    "        for i in integrated_list:\n",
    "            if os.path.exists(new_folder+'%s.csv'%i):\n",
    "                os.remove(new_folder+'%s.csv'%i)\n",
    "                eval(i).to_csv(new_folder+'%s.csv'%i)\n",
    "            else:\n",
    "                eval(i).to_csv(new_folder+'%s.csv'%i)\n",
    "\n",
    "    elif x in integrated_list:\n",
    "        if os.path.exists(new_folder+'%s.csv'%x):\n",
    "                os.remove(new_folder+'%s.csv'%x)\n",
    "                eval(i).to_csv(new_folder+'%s.csv'%x)\n",
    "        else:\n",
    "            eval(i).to_csv(new_folder+'%s.csv'%x)\n",
    "\n",
    "    else:\n",
    "        return \"wrong company's name. Please check again\"\n",
    "    #return(eval(x))\n",
    "    \n",
    "integrate_all_data(input(\"please enter the company's name: \")) # the format of the input is Company_Name_integrated, \"all\" for download them all"
   ]
  },
  {
   "cell_type": "code",
   "execution_count": 23,
   "metadata": {},
   "outputs": [
    {
     "data": {
      "text/plain": [
       "'./1Q18 Portfolio Company Valuations_vF'"
      ]
     },
     "execution_count": 23,
     "metadata": {},
     "output_type": "execute_result"
    }
   ],
   "source": [
    "lst = []\n",
    "for root, dirs, files in os.walk('.'):\n",
    "    lst.append(root)\n",
    "\n",
    "def replace_item(item):\n",
    "    if '.\\\\' in item:\n",
    "        return item.replace('.\\\\','./')\n",
    "    else:\n",
    "        return item\n",
    "lst = lst[2:]\n",
    "pd.Series(lst).map(replace_item)"
   ]
  },
  {
   "cell_type": "code",
   "execution_count": 8,
   "metadata": {},
   "outputs": [
    {
     "data": {
      "text/plain": [
       "0    3\n",
       "1    3\n",
       "2    4\n",
       "3    4\n",
       "dtype: object"
      ]
     },
     "execution_count": 8,
     "metadata": {},
     "output_type": "execute_result"
    }
   ],
   "source": [
    "a = pd.Series([np.nan,'3',np.nan,'4'])\n",
    "\n",
    "a.bfill()"
   ]
  },
  {
   "cell_type": "code",
   "execution_count": null,
   "metadata": {},
   "outputs": [],
   "source": []
  }
 ],
 "metadata": {
  "kernelspec": {
   "display_name": "Python 3",
   "language": "python",
   "name": "python3"
  },
  "language_info": {
   "codemirror_mode": {
    "name": "ipython",
    "version": 3
   },
   "file_extension": ".py",
   "mimetype": "text/x-python",
   "name": "python",
   "nbconvert_exporter": "python",
   "pygments_lexer": "ipython3",
   "version": "3.7.3"
  }
 },
 "nbformat": 4,
 "nbformat_minor": 4
}
